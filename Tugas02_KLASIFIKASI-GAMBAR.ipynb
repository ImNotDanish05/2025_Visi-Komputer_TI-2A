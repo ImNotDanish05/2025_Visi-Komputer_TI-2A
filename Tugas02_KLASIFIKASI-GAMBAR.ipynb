{
  "nbformat": 4,
  "nbformat_minor": 0,
  "metadata": {
    "colab": {
      "provenance": [],
      "authorship_tag": "ABX9TyOrojWSw7AFc6eSfGqjr8d7",
      "include_colab_link": true
    },
    "kernelspec": {
      "name": "python3",
      "display_name": "Python 3"
    },
    "language_info": {
      "name": "python"
    }
  },
  "cells": [
    {
      "cell_type": "markdown",
      "metadata": {
        "id": "view-in-github",
        "colab_type": "text"
      },
      "source": [
        "<a href=\"https://colab.research.google.com/github/ImNotDanish05/2025_Visi-Komputer_TI-2A/blob/main/Tugas02_KLASIFIKASI-GAMBAR.ipynb\" target=\"_parent\"><img src=\"https://colab.research.google.com/assets/colab-badge.svg\" alt=\"Open In Colab\"/></a>"
      ]
    },
    {
      "cell_type": "markdown",
      "source": [
        "By: ImNotDanish05"
      ],
      "metadata": {
        "id": "hk1TZVxomwAB"
      }
    },
    {
      "cell_type": "code",
      "source": [
        "# ===== 1) Upload file foto tulisan angka =====\n",
        "from google.colab import files\n",
        "uploaded = files.upload()  # pilih 1 atau lebih file gambar (jpg/png)\n",
        "\n",
        "# ===== 2) Utilitas Preprocess agar mirip MNIST (28x28, putih-di-atas-hitam) =====\n",
        "import numpy as np\n",
        "from PIL import Image, ImageOps\n",
        "\n",
        "def preprocess_to_mnist_28x28(img_pil):\n",
        "    \"\"\"\n",
        "    Langkah:\n",
        "    - Konversi ke grayscale\n",
        "    - Auto-contrast\n",
        "    - (Opsional) invert bila latar terang (agar digit jadi putih, latar jadi gelap seperti MNIST)\n",
        "    - Crop ke bounding box digit\n",
        "    - Resize mempertahankan rasio ke (20x20), lalu pad ke (28x28)\n",
        "    - Normalisasi ke [0,1] dan tambah axis channel\n",
        "    \"\"\"\n",
        "\n",
        "    # Grayscale + autocontrast\n",
        "    img = img_pil.convert('L')\n",
        "    img = ImageOps.autocontrast(img)\n",
        "\n",
        "    arr = np.array(img).astype(np.uint8)\n",
        "\n",
        "    # Jika rata-rata terang (kertas putih), invert supaya digit putih di atas latar gelap (gaya MNIST)\n",
        "    if arr.mean() > 127:\n",
        "        img = ImageOps.invert(img)\n",
        "        arr = np.array(img)\n",
        "\n",
        "    # Binarisasi ringan untuk cari bbox digit\n",
        "    thr = np.mean(arr) * 0.8  # ambang adaptif sederhana\n",
        "    mask = arr > thr\n",
        "    if mask.any():\n",
        "        ys, xs = np.where(mask)\n",
        "        y0, y1 = ys.min(), ys.max()\n",
        "        x0, x1 = xs.min(), xs.max()\n",
        "        img = img.crop((x0, y0, x1 + 1, y1 + 1))\n",
        "\n",
        "    # Resize ke 20x20 dengan aspect ratio\n",
        "    img.thumbnail((20, 20), Image.Resampling.LANCZOS)\n",
        "    w, h = img.size\n",
        "\n",
        "    # Pad ke 28x28 dan center\n",
        "    canvas = Image.new('L', (28, 28), color=0)\n",
        "    canvas.paste(img, ((28 - w) // 2, (28 - h) // 2))\n",
        "\n",
        "    # Normalisasi ke [0,1]\n",
        "    arr = np.array(canvas).astype('float32') / 255.0\n",
        "\n",
        "    # Tambah channel dim (28, 28, 1)\n",
        "    arr = arr[..., np.newaxis]\n",
        "\n",
        "    return arr"
      ],
      "metadata": {
        "id": "c3rqIPLX4C_i"
      },
      "execution_count": null,
      "outputs": []
    },
    {
      "cell_type": "code",
      "source": [
        "import matplotlib.pyplot as plt\n",
        "\n",
        "results = []\n",
        "\n",
        "# Loop tiap file yang diupload\n",
        "for fname in uploaded.keys():\n",
        "    img_pil = Image.open(fname)\n",
        "\n",
        "    # Preprocessing ke format MNIST\n",
        "    disp, x = preprocess_to_mnist_28x28(img_pil)   # disp = gambar ditampilkan, x = array (28,28,1)\n",
        "\n",
        "    # Siapkan batch (1 sample)\n",
        "    x_batch = np.expand_dims(x, axis=0)\n",
        "\n",
        "    # Prediksi pakai model\n",
        "    probs = model.predict(x_batch, verbose=0)[0]\n",
        "    pred = int(np.argmax(probs))\n",
        "    conf = float(np.max(probs))\n",
        "\n",
        "    results.append((fname, pred, conf))\n",
        "\n",
        "    # Tampilkan hasil prediksi untuk gambar\n",
        "    plt.figure(figsize=(3, 3))\n",
        "    plt.imshow(disp, cmap='gray')\n",
        "    plt.title(f\"Prediksi: {pred} (p={conf:.2f})\")\n",
        "    plt.axis('off')\n",
        "    plt.show()\n",
        "\n",
        "# Rekap ringkas\n",
        "print(\"Rekap Prediksi (CNN):\")\n",
        "for r in results:\n",
        "    print(f\"- {r[0]} -> {r[1]} (p={r[2]:.3f})\")"
      ],
      "metadata": {
        "id": "VD6oBQ1_-HjS"
      },
      "execution_count": null,
      "outputs": []
    },
    {
      "cell_type": "code",
      "source": [
        "from sklearn.metrics import accuracy_score\n",
        "\n",
        "results = []\n",
        "\n",
        "# Loop tiap file yang diupload\n",
        "for fname in uploaded.keys():\n",
        "    img_pil = Image.open(fname)\n",
        "\n",
        "    # Preprocessing ke format MNIST (28x28, float [0,1])\n",
        "    _, x = preprocess_to_mnist_28x28(img_pil)\n",
        "    x_flat = x.reshape(1, -1)   # (1, 784)\n",
        "\n",
        "    # Prediksi dengan SVM\n",
        "    pred = int(clf.predict(x_flat)[0])\n",
        "\n",
        "    # Coba ambil probabilitas (jika model dilatih dengan probability=True)\n",
        "    conf = None\n",
        "    try:\n",
        "        if hasattr(clf, \"predict_proba\"):\n",
        "            conf = float(np.max(clf.predict_proba(x_flat)))\n",
        "    except Exception:\n",
        "        pass\n",
        "\n",
        "    results.append((fname, pred, conf))\n",
        "\n",
        "    # Tampilkan hasil\n",
        "    if conf is not None:\n",
        "        print(f\"{fname} -> Prediksi SVM: {pred} (p≈{conf:.2f})\")\n",
        "    else:\n",
        "        print(f\"{fname} -> Prediksi SVM: {pred}\")"
      ],
      "metadata": {
        "id": "Ez4CyxY8-pmp"
      },
      "execution_count": null,
      "outputs": []
    }
  ]
}